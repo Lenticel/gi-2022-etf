{
 "cells": [
  {
   "cell_type": "markdown",
   "id": "5f3b9fb9",
   "metadata": {},
   "source": [
    "# Homework 2, interactive analisys"
   ]
  },
  {
   "cell_type": "markdown",
   "id": "9e046376",
   "metadata": {},
   "source": [
    "Let's start by importing the needed libraries\n",
    "* pysam\n",
    "* pandas\n",
    "* satistics"
   ]
  },
  {
   "cell_type": "markdown",
   "id": "3a466fb1",
   "metadata": {},
   "source": [
    "Fun fact:\n",
    "> Pysam can't be installed on Windows.\n",
    "A workaround is possible by running Jupyter in WSL though."
   ]
  },
  {
   "cell_type": "code",
   "execution_count": 54,
   "id": "236d7deb",
   "metadata": {},
   "outputs": [],
   "source": [
    "import pysam\n",
    "import pandas as pd\n",
    "import statistics"
   ]
  },
  {
   "cell_type": "markdown",
   "id": "cb7d610f",
   "metadata": {},
   "source": [
    "Let's open the input file.  "
   ]
  },
  {
   "cell_type": "code",
   "execution_count": 3,
   "id": "028765b6",
   "metadata": {},
   "outputs": [],
   "source": [
    "fileName = \"merged-tumor.bam\"\n",
    "alignFile = pysam.AlignmentFile(fileName)"
   ]
  },
  {
   "cell_type": "markdown",
   "id": "4cafca36",
   "metadata": {},
   "source": [
    "Now we can fetch the first read in the file and show the contained fields."
   ]
  },
  {
   "cell_type": "code",
   "execution_count": 16,
   "id": "2d80080c",
   "metadata": {},
   "outputs": [],
   "source": [
    "firstRead = next(alignFile.head(1))"
   ]
  },
  {
   "cell_type": "code",
   "execution_count": 25,
   "id": "9297dc8a",
   "metadata": {},
   "outputs": [
    {
     "name": "stdout",
     "output_type": "stream",
     "text": [
      "name: C0HVYACXX120402:7:1207:5722:57044\n",
      "flag: 1187\n",
      "ref_name: 21\n",
      "ref_pos: 9483249\n",
      "map_quality: 27\n",
      "cigar: 76M\n",
      "next_ref_name: =\n",
      "next_ref_pos: 9483382\n",
      "length: 209\n",
      "seq: TTTTCAAACAGTATCTATGCCTGCCAAATGTGAACATATAAAAAAAAACCAGAATGTGCCATTCTGATTTAAACTG\n",
      "qual: ==<>@?@@>@D?>@C?>8JA5?>CC>?@???BB;H-:4A?D=DB8BDE?GBJCD@B8??E<A>CDJB@B>AA@@@C\n",
      "tags: ['XA:Z:GL000217.1,-110754,76M,1;', 'BD:Z:NNNNNNNNNNNNNNNNNNNNNNNNNNNNNNNNNNNNNNNNNNNNNNNNNNNNNNNNNNNNNNNNNNNNNNNNNNNN', 'MD:Z:76', 'RG:Z:1', 'BI:Z:NNNNNNNNNNNNNNNNNNNNNNNNNNNNNNNNNNNNNNNNNNNNNNNNNNNNNNNNNNNNNNNNNNNNNNNNNNNN', 'NM:i:0', 'MQ:i:27', 'AS:i:76', 'XS:i:71']\n"
     ]
    }
   ],
   "source": [
    "for key, val in firstRead.to_dict().items():\n",
    "    print(f'{key}: {val}')"
   ]
  },
  {
   "cell_type": "markdown",
   "id": "a8b3cb03",
   "metadata": {},
   "source": [
    "We can also observe the flag value."
   ]
  },
  {
   "cell_type": "code",
   "execution_count": 26,
   "id": "6ec3d127",
   "metadata": {},
   "outputs": [
    {
     "data": {
      "text/plain": [
       "1187"
      ]
     },
     "execution_count": 26,
     "metadata": {},
     "output_type": "execute_result"
    }
   ],
   "source": [
    "firstRead.flag"
   ]
  },
  {
   "cell_type": "markdown",
   "id": "3489ae21",
   "metadata": {},
   "source": [
    "As this number means very little on it's own, let's define a dict with the flag values we can use to check what they mean."
   ]
  },
  {
   "cell_type": "code",
   "execution_count": 30,
   "id": "e1f75802",
   "metadata": {},
   "outputs": [],
   "source": [
    "SAM_FLAGS = {\n",
    "    'paired': 0x1,\n",
    "    'mapped in pair' : 0x2,\n",
    "    'unmapped': 0x4,\n",
    "    'mate unmapped': 0x8,\n",
    "    'reverse strand': 0x10,\n",
    "    'mate reverse strand': 0x20,\n",
    "    'first in pair': 0x40,\n",
    "    'second in pair': 0x80,\n",
    "    'not primary alignment': 0x100,\n",
    "    'fails quality checks': 0x200,\n",
    "    'duplicate': 0x400,\n",
    "    'supplementary alignment': 0x800\n",
    "}"
   ]
  },
  {
   "cell_type": "markdown",
   "id": "c68eef2d",
   "metadata": {},
   "source": [
    "Now we can check which of the mentioned flags are active."
   ]
  },
  {
   "cell_type": "code",
   "execution_count": 37,
   "id": "30a062c4",
   "metadata": {},
   "outputs": [],
   "source": [
    "def getFlagNames(flagValue, flagMap=SAM_FLAGS):\n",
    "    return [fs for fs, f in flagMap.items() if f & flagValue != 0]"
   ]
  },
  {
   "cell_type": "code",
   "execution_count": 38,
   "id": "9425d436",
   "metadata": {},
   "outputs": [
    {
     "data": {
      "text/plain": [
       "['paired',\n",
       " 'mapped in pair',\n",
       " 'mate reverse strand',\n",
       " 'second in pair',\n",
       " 'duplicate']"
      ]
     },
     "execution_count": 38,
     "metadata": {},
     "output_type": "execute_result"
    }
   ],
   "source": [
    "getFlagNames(firstRead.flag)"
   ]
  },
  {
   "cell_type": "markdown",
   "id": "b0cf9add",
   "metadata": {},
   "source": [
    "Let's also check the flags for the first 10 reads."
   ]
  },
  {
   "cell_type": "code",
   "execution_count": 43,
   "id": "86f3f9ca",
   "metadata": {
    "scrolled": true
   },
   "outputs": [
    {
     "name": "stdout",
     "output_type": "stream",
     "text": [
      "[0] C0HVYACXX120402:7:1207:5722:57044 ['paired', 'mapped in pair', 'mate reverse strand', 'second in pair', 'duplicate']\n",
      "[1] D0RE2ACXX120401:1:2105:2631:113383 ['paired', 'mapped in pair', 'mate reverse strand', 'second in pair']\n",
      "[2] C0HVYACXX120402:5:1304:16767:148118 ['paired', 'mapped in pair', 'mate reverse strand', 'first in pair']\n",
      "[3] C0HVYACXX120402:8:1101:6314:155036 ['paired', 'mapped in pair', 'mate reverse strand', 'first in pair']\n",
      "[4] D0RE2ACXX120401:4:2106:2222:188475 ['paired', 'mapped in pair', 'mate reverse strand', 'first in pair']\n",
      "[5] C0HVYACXX120402:7:2104:3109:85401 ['paired', 'mapped in pair', 'mate reverse strand', 'second in pair']\n",
      "[6] C0HVYACXX120402:3:1307:14105:43830 ['paired', 'mapped in pair', 'mate reverse strand', 'first in pair']\n",
      "[7] D0RH0ACXX120402:2:2211:20196:13130 ['paired', 'mapped in pair', 'mate reverse strand', 'first in pair', 'duplicate']\n",
      "[8] D0RE2ACXX120401:1:1201:14782:65302 ['paired', 'mapped in pair', 'mate reverse strand', 'first in pair']\n",
      "[9] D0RE2ACXX120401:7:1304:12042:51117 ['paired', 'mapped in pair', 'mate reverse strand', 'first in pair', 'duplicate']\n"
     ]
    }
   ],
   "source": [
    "numReads = 10\n",
    "for index, read in enumerate(alignFile.head(10)):\n",
    "    print(f'[{index}] {read.qname} {getFlagNames(read.flag)}')"
   ]
  },
  {
   "cell_type": "markdown",
   "id": "6339da7a",
   "metadata": {},
   "source": [
    "## Now for some counting!"
   ]
  },
  {
   "cell_type": "markdown",
   "id": "cf78a3c8",
   "metadata": {},
   "source": [
    "### How many unmapped reads are in the file?\n",
    "\n",
    "AlignmentFile.count seems like it could be useful :)"
   ]
  },
  {
   "cell_type": "code",
   "execution_count": 53,
   "id": "81b794ee",
   "metadata": {},
   "outputs": [],
   "source": [
    "?pysam.AlignmentFile.count"
   ]
  },
  {
   "cell_type": "code",
   "execution_count": 48,
   "id": "03cd860a",
   "metadata": {},
   "outputs": [
    {
     "data": {
      "text/plain": [
       "17765"
      ]
     },
     "execution_count": 48,
     "metadata": {},
     "output_type": "execute_result"
    }
   ],
   "source": [
    "alignFile.count(read_callback=lambda r : r.is_unmapped)"
   ]
  },
  {
   "cell_type": "markdown",
   "id": "46c7eb70",
   "metadata": {},
   "source": [
    "### Total number of reads?"
   ]
  },
  {
   "cell_type": "code",
   "execution_count": 72,
   "id": "279a755a",
   "metadata": {},
   "outputs": [
    {
     "data": {
      "text/plain": [
       "2921629"
      ]
     },
     "execution_count": 72,
     "metadata": {},
     "output_type": "execute_result"
    }
   ],
   "source": [
    "numberOfReads = alignFile.count()\n",
    "numberOfReads"
   ]
  },
  {
   "cell_type": "markdown",
   "id": "58091b5b",
   "metadata": {},
   "source": [
    "### Number of reads with mapping quality 0?"
   ]
  },
  {
   "cell_type": "code",
   "execution_count": 51,
   "id": "2d79f691",
   "metadata": {},
   "outputs": [
    {
     "data": {
      "text/plain": [
       "126628"
      ]
     },
     "execution_count": 51,
     "metadata": {},
     "output_type": "execute_result"
    }
   ],
   "source": [
    "alignFile.count(read_callback=lambda r : r.mapping_quality == 0)"
   ]
  },
  {
   "cell_type": "markdown",
   "id": "1ecbc278",
   "metadata": {},
   "source": [
    "### Average mapping quality for all the reads?"
   ]
  },
  {
   "cell_type": "code",
   "execution_count": 73,
   "id": "78d024d9",
   "metadata": {},
   "outputs": [
    {
     "data": {
      "text/plain": [
       "55.91379158681681"
      ]
     },
     "execution_count": 73,
     "metadata": {},
     "output_type": "execute_result"
    }
   ],
   "source": [
    "statistics.mean(map(lambda r: r.mapping_quality, alignFile.head(numberOfReads)))"
   ]
  },
  {
   "cell_type": "markdown",
   "id": "df567481",
   "metadata": {},
   "source": [
    "### Average mapping quality if reads with 0 map quality are filtered out"
   ]
  },
  {
   "cell_type": "code",
   "execution_count": 74,
   "id": "235c6abf",
   "metadata": {},
   "outputs": [
    {
     "data": {
      "text/plain": [
       "58.446975510921106"
      ]
     },
     "execution_count": 74,
     "metadata": {},
     "output_type": "execute_result"
    }
   ],
   "source": [
    "statistics.mean(filter(lambda q: q!=0 ,map(lambda r: r.mapping_quality, alignFile.head(numberOfReads))))"
   ]
  }
 ],
 "metadata": {
  "kernelspec": {
   "display_name": "Python 3 (ipykernel)",
   "language": "python",
   "name": "python3"
  },
  "language_info": {
   "codemirror_mode": {
    "name": "ipython",
    "version": 3
   },
   "file_extension": ".py",
   "mimetype": "text/x-python",
   "name": "python",
   "nbconvert_exporter": "python",
   "pygments_lexer": "ipython3",
   "version": "3.9.11"
  }
 },
 "nbformat": 4,
 "nbformat_minor": 5
}
